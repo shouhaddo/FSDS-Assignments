{
 "cells": [
  {
   "cell_type": "markdown",
   "id": "738e0c80",
   "metadata": {},
   "source": [
    "<b>1. Write a Python program to print \"Hello Python\"?"
   ]
  },
  {
   "cell_type": "code",
   "execution_count": 1,
   "id": "eadab665",
   "metadata": {},
   "outputs": [
    {
     "name": "stdout",
     "output_type": "stream",
     "text": [
      "Hello World\n"
     ]
    }
   ],
   "source": [
    "print(\"Hello World\")"
   ]
  },
  {
   "cell_type": "markdown",
   "id": "cd7fe87d",
   "metadata": {},
   "source": [
    "<b>2. Write a Python program to do arithmetical operations addition and division.?"
   ]
  },
  {
   "cell_type": "code",
   "execution_count": 3,
   "id": "7280df9f",
   "metadata": {},
   "outputs": [
    {
     "name": "stdout",
     "output_type": "stream",
     "text": [
      "Enter number 1 : 10\n",
      "Enter number 2 : 5\n",
      " ADDITION : 15\n",
      " DIVISION : 2.0\n"
     ]
    }
   ],
   "source": [
    "num1 = int(input(\"Enter number 1 : \"))\n",
    "num2 = int(input(\"Enter number 2 : \"))\n",
    "print(f\" ADDITION : {num1+num2}\" )\n",
    "print(f\" DIVISION : {num1/num2}\" )"
   ]
  },
  {
   "cell_type": "markdown",
   "id": "5b8cd66e",
   "metadata": {},
   "source": [
    "<b>3. Write a Python program to find the area of a triangle?"
   ]
  },
  {
   "cell_type": "code",
   "execution_count": 4,
   "id": "78e6fd1a",
   "metadata": {},
   "outputs": [
    {
     "name": "stdout",
     "output_type": "stream",
     "text": [
      "Enter triangle base : 10\n",
      "Enter triangle height : 5\n",
      "Area : 25.0\n"
     ]
    }
   ],
   "source": [
    "base = int(input(\"Enter triangle base : \"))\n",
    "height = int(input(\"Enter triangle height : \"))\n",
    "print(f\"Area : {0.5 * base * height}\")"
   ]
  },
  {
   "cell_type": "markdown",
   "id": "47dd7051",
   "metadata": {},
   "source": [
    "<b>4. Write a Python program to swap two variables?"
   ]
  },
  {
   "cell_type": "code",
   "execution_count": 6,
   "id": "c7dbcb7f",
   "metadata": {},
   "outputs": [
    {
     "name": "stdout",
     "output_type": "stream",
     "text": [
      "Enter number 1 : 10\n",
      "Enter number 2 : 5\n",
      "After swapping \n",
      " Number 1 : 5 \n",
      " Number 2 : 10 \n"
     ]
    }
   ],
   "source": [
    "num1 = int(input(\"Enter number 1 : \"))\n",
    "num2 = int(input(\"Enter number 2 : \"))\n",
    "num1 ,num2 =num2 , num1\n",
    "print(f\"After swapping \\n Number 1 : {num1} \\n Number 2 : {num2} \")"
   ]
  },
  {
   "cell_type": "markdown",
   "id": "57bdd4ec",
   "metadata": {},
   "source": [
    "<b>5. Write a Python program to generate a random number?"
   ]
  },
  {
   "cell_type": "code",
   "execution_count": 40,
   "id": "529afdcc",
   "metadata": {},
   "outputs": [
    {
     "data": {
      "text/plain": [
       "9374"
      ]
     },
     "execution_count": 40,
     "metadata": {},
     "output_type": "execute_result"
    }
   ],
   "source": [
    "import random\n",
    "random.randint(0,10000)"
   ]
  }
 ],
 "metadata": {
  "kernelspec": {
   "display_name": "Python 3",
   "language": "python",
   "name": "python3"
  },
  "language_info": {
   "codemirror_mode": {
    "name": "ipython",
    "version": 3
   },
   "file_extension": ".py",
   "mimetype": "text/x-python",
   "name": "python",
   "nbconvert_exporter": "python",
   "pygments_lexer": "ipython3",
   "version": "3.8.8"
  }
 },
 "nbformat": 4,
 "nbformat_minor": 5
}

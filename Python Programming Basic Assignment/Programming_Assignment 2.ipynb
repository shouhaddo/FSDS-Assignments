{
 "cells": [
  {
   "cell_type": "markdown",
   "id": "ea8749da",
   "metadata": {},
   "source": [
    "<b>1. Write a Python program to convert kilometers to miles?"
   ]
  },
  {
   "cell_type": "code",
   "execution_count": 4,
   "id": "77cb361d",
   "metadata": {},
   "outputs": [
    {
     "name": "stdout",
     "output_type": "stream",
     "text": [
      "Enter distance in km : 5\n",
      " 5.0 km = 3.106855 miles\n"
     ]
    }
   ],
   "source": [
    "distance = float(input(\"Enter distance in km : \"))\n",
    "print(f\" {distance} km = {distance * 0.621371 } miles\")"
   ]
  },
  {
   "cell_type": "markdown",
   "id": "34a42fc4",
   "metadata": {},
   "source": [
    "<b>2. Write a Python program to convert Celsius to Fahrenheit?"
   ]
  },
  {
   "cell_type": "code",
   "execution_count": 6,
   "id": "28f6620f",
   "metadata": {},
   "outputs": [
    {
     "name": "stdout",
     "output_type": "stream",
     "text": [
      "Enter temp in Celsius : 67\n",
      "67.0 Celsius = 152.60000000000002 fahrenheit\n"
     ]
    }
   ],
   "source": [
    "temp = float(input(\"Enter temp in Celsius : \"))\n",
    "print(f\"{temp} Celsius = {(temp * (9/5))+32 } fahrenheit\") # Formulae : (°C × 9/5) + 32 = °F"
   ]
  },
  {
   "cell_type": "markdown",
   "id": "e06855ec",
   "metadata": {},
   "source": [
    "<b>3. Write a Python program to display calendar?"
   ]
  },
  {
   "cell_type": "code",
   "execution_count": 7,
   "id": "09b1d33d",
   "metadata": {},
   "outputs": [
    {
     "name": "stdout",
     "output_type": "stream",
     "text": [
      "Enter year : 2021\n",
      "Enter month : 12\n",
      "   December 2021\n",
      "Mo Tu We Th Fr Sa Su\n",
      "       1  2  3  4  5\n",
      " 6  7  8  9 10 11 12\n",
      "13 14 15 16 17 18 19\n",
      "20 21 22 23 24 25 26\n",
      "27 28 29 30 31\n",
      "\n"
     ]
    }
   ],
   "source": [
    "import calendar\n",
    "year = int(input(\"Enter year : \"))\n",
    "month = int(input(\"Enter month : \"))\n",
    "\n",
    "print(calendar.month(year, month))"
   ]
  },
  {
   "cell_type": "markdown",
   "id": "f8393dea",
   "metadata": {},
   "source": [
    "<b> 4. Write a Python program to solve quadratic equation?"
   ]
  },
  {
   "cell_type": "code",
   "execution_count": 9,
   "id": "5d265958",
   "metadata": {},
   "outputs": [
    {
     "name": "stdout",
     "output_type": "stream",
     "text": [
      "Enter a: 1\n",
      "Enter b: 4\n",
      "Enter c: 2\n",
      "The roots are (-3.414213562373095+0j) and (-0.5857864376269049+0j)\n"
     ]
    }
   ],
   "source": [
    "import cmath\n",
    "a = float(input('Enter a: '))  \n",
    "b = float(input('Enter b: '))  \n",
    "c = float(input('Enter c: '))  \n",
    "d = (b**2) - (4*a*c)   \n",
    "root1 = (-b-cmath.sqrt(d))/(2*a)  \n",
    "root2 = (-b+cmath.sqrt(d))/(2*a)  \n",
    "print('The roots are {0} and {1}'.format(root1,root2)) "
   ]
  },
  {
   "cell_type": "markdown",
   "id": "e993ef1c",
   "metadata": {},
   "source": [
    "<b>5. Write a Python program to swap two variables without temp variable?"
   ]
  },
  {
   "cell_type": "code",
   "execution_count": 10,
   "id": "d2213a98",
   "metadata": {},
   "outputs": [
    {
     "name": "stdout",
     "output_type": "stream",
     "text": [
      "Enter number 1 : 10\n",
      "Enter number 2 : 5\n",
      "After swapping \n",
      " Number 1 : 5 \n",
      " Number 2 : 10 \n"
     ]
    }
   ],
   "source": [
    "num1 = int(input(\"Enter number 1 : \"))\n",
    "num2 = int(input(\"Enter number 2 : \"))\n",
    "num1 ,num2 =num2 , num1\n",
    "print(f\"After swapping \\n Number 1 : {num1} \\n Number 2 : {num2} \")"
   ]
  }
 ],
 "metadata": {
  "kernelspec": {
   "display_name": "Python 3",
   "language": "python",
   "name": "python3"
  },
  "language_info": {
   "codemirror_mode": {
    "name": "ipython",
    "version": 3
   },
   "file_extension": ".py",
   "mimetype": "text/x-python",
   "name": "python",
   "nbconvert_exporter": "python",
   "pygments_lexer": "ipython3",
   "version": "3.8.8"
  }
 },
 "nbformat": 4,
 "nbformat_minor": 5
}

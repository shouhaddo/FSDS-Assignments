{
 "cells": [
  {
   "cell_type": "markdown",
   "id": "9b3d75fc",
   "metadata": {},
   "source": [
    "<b>1. Write a Python program to Extract Unique values dictionary values?"
   ]
  },
  {
   "cell_type": "code",
   "execution_count": 1,
   "id": "22380d7b",
   "metadata": {},
   "outputs": [
    {
     "name": "stdout",
     "output_type": "stream",
     "text": [
      "unique values in  the dictionary are :  {1, 2}\n"
     ]
    }
   ],
   "source": [
    "dt = { 'key1' : 1 , 'key2' : 2 , 'key3' : 1 }\n",
    "print(\"unique values in  the dictionary are : \" , set([x for x in dt.values()]))"
   ]
  },
  {
   "cell_type": "markdown",
   "id": "71b08b8d",
   "metadata": {},
   "source": [
    "<b>2. Write a Python program to find the sum of all items in a dictionary?"
   ]
  },
  {
   "cell_type": "code",
   "execution_count": 2,
   "id": "9dd79f61",
   "metadata": {},
   "outputs": [
    {
     "name": "stdout",
     "output_type": "stream",
     "text": [
      "sum of values in the dictionary are :  4\n"
     ]
    }
   ],
   "source": [
    "dt = { 'key1' : 1 , 'key2' : 2 , 'key3' : 1 }\n",
    "print(\"sum of values in the dictionary are : \" , sum([x for x in dt.values()]))"
   ]
  },
  {
   "cell_type": "markdown",
   "id": "5c084d40",
   "metadata": {},
   "source": [
    "<b>3. Write a Python program to Merging two Dictionaries?"
   ]
  },
  {
   "cell_type": "code",
   "execution_count": 3,
   "id": "6486ebb5",
   "metadata": {},
   "outputs": [
    {
     "name": "stdout",
     "output_type": "stream",
     "text": [
      "{'key1': 1, 'key2': 2, 'a': 3, 'b': 4}\n"
     ]
    }
   ],
   "source": [
    "dict1 = {'key1' : 1 ,'key2' :2}\n",
    "dict2 = {'a' : 3 ,'b':4 }\n",
    "dict1.update(dict2)\n",
    "print(dict1)"
   ]
  },
  {
   "cell_type": "markdown",
   "id": "4bf5a315",
   "metadata": {},
   "source": [
    "<b>4. Write a Python program to convert key-values list to flat dictionary?"
   ]
  },
  {
   "cell_type": "code",
   "execution_count": 4,
   "id": "d0522422",
   "metadata": {},
   "outputs": [
    {
     "data": {
      "text/plain": [
       "{'a': 1, 'b': 2, 'c': 3, 'd': 4}"
      ]
     },
     "execution_count": 4,
     "metadata": {},
     "output_type": "execute_result"
    }
   ],
   "source": [
    "lst = ['a',1,'b',2,'c',3,'d',4]\n",
    "{lst[i] : lst[i+1] for i in range(0,len(lst),2)} "
   ]
  },
  {
   "cell_type": "markdown",
   "id": "d88e5df3",
   "metadata": {},
   "source": [
    "<b>5. Write a Python program to insertion at the beginning in OrderedDict?"
   ]
  },
  {
   "cell_type": "code",
   "execution_count": 5,
   "id": "c8d7982e",
   "metadata": {},
   "outputs": [],
   "source": [
    "from collections import OrderedDict\n",
    "ol = OrderedDict([('a', 1), ('b', 2)])\n",
    "ol.update({'c':3})\n",
    "ol.move_to_end('c',last=False)"
   ]
  },
  {
   "cell_type": "code",
   "execution_count": 6,
   "id": "824e7aeb",
   "metadata": {},
   "outputs": [
    {
     "data": {
      "text/plain": [
       "OrderedDict([('c', 3), ('a', 1), ('b', 2)])"
      ]
     },
     "execution_count": 6,
     "metadata": {},
     "output_type": "execute_result"
    }
   ],
   "source": [
    "ol"
   ]
  },
  {
   "cell_type": "markdown",
   "id": "7f2e6db4",
   "metadata": {},
   "source": [
    "<b>6. Write a Python program to check order of character in string using OrderedDict()?\n"
   ]
  },
  {
   "cell_type": "code",
   "execution_count": 7,
   "id": "521b6969",
   "metadata": {},
   "outputs": [
    {
     "name": "stdout",
     "output_type": "stream",
     "text": [
      "TRUE\n"
     ]
    }
   ],
   "source": [
    "name = \"Shouhaddo\"\n",
    "ol = OrderedDict().fromkeys(name)\n",
    "ptr = \"ou\"\n",
    "\n",
    "flag = 0 \n",
    "for k,v in ol.items():\n",
    "\n",
    "    if k == ptr[flag]  :\n",
    "        flag+=1\n",
    "\n",
    "    if flag == len(ptr):\n",
    "        print(\"TRUE\")\n",
    "        break\n",
    "else :\n",
    "    print(\"FALSE\")\n"
   ]
  },
  {
   "cell_type": "markdown",
   "id": "905711e2",
   "metadata": {},
   "source": [
    "<b>7. Write a Python program to sort Python Dictionaries by Key or Value?"
   ]
  },
  {
   "cell_type": "code",
   "execution_count": 8,
   "id": "e4934411",
   "metadata": {},
   "outputs": [],
   "source": [
    "d = {'e': 1, 'b': 9, 'c': 2, 'd': 4}"
   ]
  },
  {
   "cell_type": "code",
   "execution_count": 9,
   "id": "cb550a77",
   "metadata": {},
   "outputs": [
    {
     "data": {
      "text/plain": [
       "{'b': 9, 'c': 2, 'd': 4, 'e': 1}"
      ]
     },
     "execution_count": 9,
     "metadata": {},
     "output_type": "execute_result"
    }
   ],
   "source": [
    "#sorting Values\n",
    "{ i : d[i]  for i in sorted(d.keys())}"
   ]
  },
  {
   "cell_type": "code",
   "execution_count": 10,
   "id": "ce9e95bf",
   "metadata": {},
   "outputs": [
    {
     "data": {
      "text/plain": [
       "[('b', 9), ('c', 2), ('d', 4), ('e', 1)]"
      ]
     },
     "execution_count": 10,
     "metadata": {},
     "output_type": "execute_result"
    }
   ],
   "source": [
    "# Sorting  keys\n",
    "sorted(d.items())"
   ]
  }
 ],
 "metadata": {
  "kernelspec": {
   "display_name": "Python 3",
   "language": "python",
   "name": "python3"
  },
  "language_info": {
   "codemirror_mode": {
    "name": "ipython",
    "version": 3
   },
   "file_extension": ".py",
   "mimetype": "text/x-python",
   "name": "python",
   "nbconvert_exporter": "python",
   "pygments_lexer": "ipython3",
   "version": "3.8.8"
  }
 },
 "nbformat": 4,
 "nbformat_minor": 5
}

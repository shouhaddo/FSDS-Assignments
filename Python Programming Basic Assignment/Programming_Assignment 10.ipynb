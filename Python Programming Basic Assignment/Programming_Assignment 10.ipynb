{
 "cells": [
  {
   "cell_type": "markdown",
   "id": "f5be0958",
   "metadata": {},
   "source": [
    "<b>1. Write a Python program to find sum of elements in list?"
   ]
  },
  {
   "cell_type": "code",
   "execution_count": 1,
   "id": "29d2e7ee",
   "metadata": {},
   "outputs": [],
   "source": [
    "def sumOfList(lst):\n",
    "    s=0\n",
    "    for i in lst:\n",
    "        s += i\n",
    "    return s"
   ]
  },
  {
   "cell_type": "code",
   "execution_count": 2,
   "id": "47d1dd38",
   "metadata": {},
   "outputs": [
    {
     "data": {
      "text/plain": [
       "15"
      ]
     },
     "execution_count": 2,
     "metadata": {},
     "output_type": "execute_result"
    }
   ],
   "source": [
    "sumOfList([1,2,3,4,5])"
   ]
  },
  {
   "cell_type": "markdown",
   "id": "cd92186d",
   "metadata": {},
   "source": [
    "<b>2. Write a Python program to Multiply all numbers in the list?"
   ]
  },
  {
   "cell_type": "code",
   "execution_count": 3,
   "id": "dae76830",
   "metadata": {},
   "outputs": [],
   "source": [
    "def mulOfList(lst):\n",
    "    s=1\n",
    "    for i in lst:\n",
    "        s *= i\n",
    "    return s"
   ]
  },
  {
   "cell_type": "code",
   "execution_count": 4,
   "id": "295a661b",
   "metadata": {},
   "outputs": [
    {
     "data": {
      "text/plain": [
       "120"
      ]
     },
     "execution_count": 4,
     "metadata": {},
     "output_type": "execute_result"
    }
   ],
   "source": [
    "mulOfList([1,2,3,4,5])"
   ]
  },
  {
   "cell_type": "markdown",
   "id": "0cd2f19f",
   "metadata": {},
   "source": [
    "<b>3. Write a Python program to find smallest number in a list?"
   ]
  },
  {
   "cell_type": "code",
   "execution_count": 5,
   "id": "2ca07095",
   "metadata": {},
   "outputs": [],
   "source": [
    "def smallestElem(lst):\n",
    "    lst.sort()\n",
    "    return lst[0]"
   ]
  },
  {
   "cell_type": "code",
   "execution_count": 6,
   "id": "748a4f42",
   "metadata": {},
   "outputs": [
    {
     "data": {
      "text/plain": [
       "1"
      ]
     },
     "execution_count": 6,
     "metadata": {},
     "output_type": "execute_result"
    }
   ],
   "source": [
    "smallestElem([5,9,10,1,2,3,4,5])"
   ]
  },
  {
   "cell_type": "markdown",
   "id": "f7f95d3e",
   "metadata": {},
   "source": [
    "<b>4. Write a Python program to find largest number in a list?"
   ]
  },
  {
   "cell_type": "code",
   "execution_count": 7,
   "id": "3b1ee116",
   "metadata": {},
   "outputs": [],
   "source": [
    "def largestElem(lst):\n",
    "    lst.sort()\n",
    "    return lst[-1]"
   ]
  },
  {
   "cell_type": "code",
   "execution_count": 8,
   "id": "67bde551",
   "metadata": {},
   "outputs": [
    {
     "data": {
      "text/plain": [
       "10"
      ]
     },
     "execution_count": 8,
     "metadata": {},
     "output_type": "execute_result"
    }
   ],
   "source": [
    "largestElem([5,9,10,1,2,3,4,5])"
   ]
  },
  {
   "cell_type": "markdown",
   "id": "cf5351ba",
   "metadata": {},
   "source": [
    "<b> 5. Write a Python program to find second largest number in a list?"
   ]
  },
  {
   "cell_type": "code",
   "execution_count": 9,
   "id": "dde6bc86",
   "metadata": {},
   "outputs": [],
   "source": [
    "def secondLargestElem(lst):\n",
    "    lst.sort()\n",
    "    return lst[-2]"
   ]
  },
  {
   "cell_type": "code",
   "execution_count": 10,
   "id": "9d901b87",
   "metadata": {},
   "outputs": [
    {
     "data": {
      "text/plain": [
       "9"
      ]
     },
     "execution_count": 10,
     "metadata": {},
     "output_type": "execute_result"
    }
   ],
   "source": [
    "secondLargestElem([5,9,10,1,2,3,4,5])"
   ]
  },
  {
   "cell_type": "markdown",
   "id": "c1573524",
   "metadata": {},
   "source": [
    "<b>6. Write a Python program to find N largest elements from a list?"
   ]
  },
  {
   "cell_type": "code",
   "execution_count": 11,
   "id": "2e7d7c73",
   "metadata": {},
   "outputs": [],
   "source": [
    "def NLargestElem(lst,N):\n",
    "    lst.sort(reverse=True)\n",
    "    return lst[:N]"
   ]
  },
  {
   "cell_type": "code",
   "execution_count": 12,
   "id": "de19ac2c",
   "metadata": {},
   "outputs": [
    {
     "data": {
      "text/plain": [
       "[10, 9, 5]"
      ]
     },
     "execution_count": 12,
     "metadata": {},
     "output_type": "execute_result"
    }
   ],
   "source": [
    "NLargestElem([5,9,10,1,2,3,4,5] ,N= 3)"
   ]
  },
  {
   "cell_type": "markdown",
   "id": "8af60454",
   "metadata": {},
   "source": [
    "<b>7. Write a Python program to print even numbers in a list?"
   ]
  },
  {
   "cell_type": "code",
   "execution_count": 13,
   "id": "b7037f54",
   "metadata": {},
   "outputs": [],
   "source": [
    "def evenNumbers(lst):\n",
    "    new_lst = []\n",
    "    for i in lst:\n",
    "        if i%2 == 0 :\n",
    "            new_lst.append(i)\n",
    "            \n",
    "    return new_lst"
   ]
  },
  {
   "cell_type": "code",
   "execution_count": 14,
   "id": "f3763cca",
   "metadata": {},
   "outputs": [
    {
     "data": {
      "text/plain": [
       "[10, 2, 4]"
      ]
     },
     "execution_count": 14,
     "metadata": {},
     "output_type": "execute_result"
    }
   ],
   "source": [
    "evenNumbers([5,9,10,1,2,3,4,5])"
   ]
  },
  {
   "cell_type": "markdown",
   "id": "0783af95",
   "metadata": {},
   "source": [
    "<b>8. Write a Python program to print odd numbers in a List?"
   ]
  },
  {
   "cell_type": "code",
   "execution_count": 15,
   "id": "74f47de4",
   "metadata": {},
   "outputs": [],
   "source": [
    "def oddNumbers(lst):\n",
    "    new_lst = []\n",
    "    for i in lst:\n",
    "        if i%2 != 0 :\n",
    "            new_lst.append(i)\n",
    "            \n",
    "    return new_lst"
   ]
  },
  {
   "cell_type": "code",
   "execution_count": 16,
   "id": "a159e5de",
   "metadata": {},
   "outputs": [
    {
     "data": {
      "text/plain": [
       "[5, 9, 1, 3, 5]"
      ]
     },
     "execution_count": 16,
     "metadata": {},
     "output_type": "execute_result"
    }
   ],
   "source": [
    "oddNumbers([5,9,10,1,2,3,4,5])"
   ]
  },
  {
   "cell_type": "markdown",
   "id": "de5b1607",
   "metadata": {},
   "source": [
    "<b>9. Write a Python program to Remove empty List from List?"
   ]
  },
  {
   "cell_type": "code",
   "execution_count": 17,
   "id": "0900a141",
   "metadata": {},
   "outputs": [],
   "source": [
    "lst = [ 1,2, \"paul\" , [] , [] , [1,2,3]] "
   ]
  },
  {
   "cell_type": "code",
   "execution_count": 18,
   "id": "ae4ecd0e",
   "metadata": {},
   "outputs": [
    {
     "data": {
      "text/plain": [
       "[1, 2, 'paul', [1, 2, 3]]"
      ]
     },
     "execution_count": 18,
     "metadata": {},
     "output_type": "execute_result"
    }
   ],
   "source": [
    "[i for i in lst if i != [] ]"
   ]
  },
  {
   "cell_type": "markdown",
   "id": "ef5488b5",
   "metadata": {},
   "source": [
    "<b>10. Write a Python program to Cloning or Copying a list?"
   ]
  },
  {
   "cell_type": "code",
   "execution_count": 19,
   "id": "df5906be",
   "metadata": {},
   "outputs": [],
   "source": [
    "def copy(lst):\n",
    "    return lst[:]"
   ]
  },
  {
   "cell_type": "code",
   "execution_count": 20,
   "id": "5945eb02",
   "metadata": {},
   "outputs": [
    {
     "name": "stdout",
     "output_type": "stream",
     "text": [
      " List :  [1, 2, 'paul', [], [], [1, 2, 3]]\n",
      " Copied List :  [1, 2, 'paul', [], [], [1, 2, 3]]\n"
     ]
    }
   ],
   "source": [
    "lst = [ 1,2, \"paul\" , [] , [] , [1,2,3]] \n",
    "print(\" List : \" ,lst)\n",
    "copied_lst = copy(lst)\n",
    "print(\" Copied List : \",copied_lst)"
   ]
  },
  {
   "cell_type": "markdown",
   "id": "d09ac60b",
   "metadata": {},
   "source": [
    "<b>11. Write a Python program to Count occurrences of an element in a list?"
   ]
  },
  {
   "cell_type": "code",
   "execution_count": 21,
   "id": "c8f5645e",
   "metadata": {},
   "outputs": [],
   "source": [
    "def countOccur(lst,elem):\n",
    "    return lst.count(elem)"
   ]
  },
  {
   "cell_type": "code",
   "execution_count": 22,
   "id": "41d7ba47",
   "metadata": {},
   "outputs": [
    {
     "data": {
      "text/plain": [
       "2"
      ]
     },
     "execution_count": 22,
     "metadata": {},
     "output_type": "execute_result"
    }
   ],
   "source": [
    "countOccur([1,1,1,1,1,23,4,5,23,5,235] , elem =  23 )"
   ]
  }
 ],
 "metadata": {
  "kernelspec": {
   "display_name": "Python 3",
   "language": "python",
   "name": "python3"
  },
  "language_info": {
   "codemirror_mode": {
    "name": "ipython",
    "version": 3
   },
   "file_extension": ".py",
   "mimetype": "text/x-python",
   "name": "python",
   "nbconvert_exporter": "python",
   "pygments_lexer": "ipython3",
   "version": "3.8.8"
  }
 },
 "nbformat": 4,
 "nbformat_minor": 5
}

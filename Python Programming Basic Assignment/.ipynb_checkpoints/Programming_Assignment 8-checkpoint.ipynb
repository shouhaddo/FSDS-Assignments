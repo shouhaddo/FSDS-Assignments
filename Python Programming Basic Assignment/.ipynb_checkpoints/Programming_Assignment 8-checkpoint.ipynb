{
 "cells": [
  {
   "cell_type": "markdown",
   "id": "170668da",
   "metadata": {},
   "source": [
    "<b>1. Write a Python Program to Add Two Matrices?"
   ]
  },
  {
   "cell_type": "code",
   "execution_count": 1,
   "id": "f4907e2a",
   "metadata": {},
   "outputs": [],
   "source": [
    "mat1 = [[1,2],[3,4],[5,6]]\n",
    "mat2 = [[1,1],[1,1],[1,1]]\n",
    "mat3 = [[0,0],[0,0],[0,0]]\n",
    "for i in range(len(mat1)):\n",
    "    for j in range(len(mat1[0])):\n",
    "        mat3[i][j] = mat1[i][j] + mat2[i][j]"
   ]
  },
  {
   "cell_type": "code",
   "execution_count": 2,
   "id": "9c5b07cc",
   "metadata": {},
   "outputs": [
    {
     "name": "stdout",
     "output_type": "stream",
     "text": [
      "[[2, 3], [4, 5], [6, 7]]\n"
     ]
    }
   ],
   "source": [
    "print(mat3)"
   ]
  },
  {
   "cell_type": "markdown",
   "id": "a018667e",
   "metadata": {},
   "source": [
    "<b>\n",
    "2. Write a Python Program to Multiply Two Matrices?"
   ]
  },
  {
   "cell_type": "code",
   "execution_count": 3,
   "id": "59cca1f6",
   "metadata": {},
   "outputs": [
    {
     "name": "stdout",
     "output_type": "stream",
     "text": [
      "[[19, 22], [43, 50]]\n"
     ]
    }
   ],
   "source": [
    "mat1 = [[1,2],[3,4]]\n",
    "mat2 = [[5,6],[7,8]]\n",
    "mat3 = [[0,0],[0,0]]\n",
    "for i in range(len(mat1)):\n",
    "    for j in range(len(mat2)):\n",
    "        for k in range(len(mat1)):\n",
    "            mat3[i][j] += mat1[i][k] * mat2[k][j]\n",
    "\n",
    "print(mat3)"
   ]
  },
  {
   "cell_type": "markdown",
   "id": "fbae6152",
   "metadata": {},
   "source": [
    "<b>3. Write a Python Program to Transpose a Matrix?"
   ]
  },
  {
   "cell_type": "code",
   "execution_count": 4,
   "id": "d2b81984",
   "metadata": {},
   "outputs": [
    {
     "data": {
      "text/plain": [
       "2"
      ]
     },
     "execution_count": 4,
     "metadata": {},
     "output_type": "execute_result"
    }
   ],
   "source": [
    "len(mat1[0])"
   ]
  },
  {
   "cell_type": "code",
   "execution_count": 5,
   "id": "3d4a46ba",
   "metadata": {},
   "outputs": [
    {
     "name": "stdout",
     "output_type": "stream",
     "text": [
      "[[1, 3, 5], [2, 4, 6]]\n"
     ]
    }
   ],
   "source": [
    "mat1 = [[1,2],\n",
    "        [3,4],\n",
    "        [5,6]]\n",
    "\n",
    "mat3 = [[0,0,0],\n",
    "        [0,0,0]]\n",
    "\n",
    "for i in range(2):\n",
    "    for j in range(3):\n",
    "        mat3[i][j] = mat1[j][i]\n",
    "\n",
    "print(mat3)"
   ]
  },
  {
   "cell_type": "markdown",
   "id": "f8d50a20",
   "metadata": {},
   "source": [
    "<b>4. Write a Python Program to Sort Words in Alphabetic Order?"
   ]
  },
  {
   "cell_type": "code",
   "execution_count": 6,
   "id": "c2da29df",
   "metadata": {},
   "outputs": [
    {
     "name": "stdout",
     "output_type": "stream",
     "text": [
      "word : shouhaddo\n",
      "new_word : addhhoosu\n"
     ]
    }
   ],
   "source": [
    "word = \"shouhaddo\"\n",
    "print(\"word : \" + word)\n",
    "print(\"new_word : \"+\"\".join(sorted(word)))"
   ]
  },
  {
   "cell_type": "markdown",
   "id": "a5019710",
   "metadata": {},
   "source": [
    "<b>5. Write a Python Program to Remove Punctuation From a String?"
   ]
  },
  {
   "cell_type": "code",
   "execution_count": 7,
   "id": "256cb3c5",
   "metadata": {},
   "outputs": [
    {
     "name": "stdout",
     "output_type": "stream",
     "text": [
      "Hey Wassup  all fine\n"
     ]
    }
   ],
   "source": [
    "import string\n",
    "sentence = \"Hey! Wassup ? all fine.\"\n",
    "for c in string.punctuation :\n",
    "    sentence = sentence.replace(c,\"\")\n",
    "print(sentence)"
   ]
  }
 ],
 "metadata": {
  "kernelspec": {
   "display_name": "Python 3",
   "language": "python",
   "name": "python3"
  },
  "language_info": {
   "codemirror_mode": {
    "name": "ipython",
    "version": 3
   },
   "file_extension": ".py",
   "mimetype": "text/x-python",
   "name": "python",
   "nbconvert_exporter": "python",
   "pygments_lexer": "ipython3",
   "version": "3.8.8"
  }
 },
 "nbformat": 4,
 "nbformat_minor": 5
}

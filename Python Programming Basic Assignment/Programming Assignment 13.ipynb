{
 "cells": [
  {
   "cell_type": "markdown",
   "id": "d3e2a7a8",
   "metadata": {},
   "source": [
    "<b>Question 1:"
   ]
  },
  {
   "cell_type": "markdown",
   "id": "e6ff57f9",
   "metadata": {},
   "source": [
    "Write a program that calculates and prints the value according to the given formula:\n",
    "\n",
    "Q = Square root of [(2 * C * D)/H]\n",
    "\n",
    "Following are the fixed values of C and H:\n",
    "C is 50. H is 30.\n",
    "D is the variable whose values should be input to your program in a comma-separated\n",
    "sequence.\n",
    "Example\n",
    "Let us assume the following comma separated input sequence is given to the program:\n",
    "100,150,180\n",
    "The output of the program should be:\n",
    "18,22,24"
   ]
  },
  {
   "cell_type": "code",
   "execution_count": 1,
   "id": "e514d04f",
   "metadata": {},
   "outputs": [
    {
     "name": "stdout",
     "output_type": "stream",
     "text": [
      "100,150,180\n",
      "18,22,24\n"
     ]
    }
   ],
   "source": [
    "import math\n",
    "D = [int(x) for x in (input().split(','))]\n",
    "C= 50\n",
    "H= 30\n",
    "lst =  []\n",
    "for i in D :\n",
    "    lst.append(int(math.sqrt((2*C*i)/H)))\n",
    "\n",
    "print(*lst,sep=',')"
   ]
  },
  {
   "cell_type": "markdown",
   "id": "8395a3e5",
   "metadata": {},
   "source": [
    "<b>Question 2:"
   ]
  },
  {
   "cell_type": "markdown",
   "id": "814aa6c1",
   "metadata": {},
   "source": [
    "Write a program which takes 2 digits, X,Y as input and generates a 2-dimensional array. The\n",
    "element value in the i-th row and j-th column of the array should be i*j.\n",
    "Note: i=0,1.., X-1; j=0,1,¡Y-1.\n",
    "Example\n",
    "Suppose the following inputs are given to the program:\n",
    "3,5\n",
    "Then, the output of the program should be:\n",
    "[[0, 0, 0, 0, 0], [0, 1, 2, 3, 4], [0, 2, 4, 6, 8]]"
   ]
  },
  {
   "cell_type": "code",
   "execution_count": 2,
   "id": "996ff9d4",
   "metadata": {},
   "outputs": [
    {
     "name": "stdout",
     "output_type": "stream",
     "text": [
      "Enter two values: 3,5\n",
      "[[0, 0, 0, 0, 0], [0, 1, 2, 3, 4], [0, 2, 4, 6, 8]]\n"
     ]
    }
   ],
   "source": [
    "x, y = [int(i) for i in input(\"Enter two values: \").split(\",\")]\n",
    "arr = [[0 for col in range(y)] for row in range(x)]\n",
    "\n",
    "for i in range(len(arr)):\n",
    "    for j in range(len(arr[0])):\n",
    "        arr[i][j] = i*j\n",
    "\n",
    "print(arr)"
   ]
  },
  {
   "cell_type": "markdown",
   "id": "ea2a5abd",
   "metadata": {},
   "source": [
    "<b>Question 3:"
   ]
  },
  {
   "cell_type": "markdown",
   "id": "fdbcfb82",
   "metadata": {},
   "source": [
    "Write a program that accepts a comma separated sequence of words as input and prints the\n",
    "words in a comma-separated sequence after sorting them alphabetically.\n",
    "Suppose the following input is supplied to the program:\n",
    "without,hello,bag,world\n",
    "Then, the output should be:\n",
    "bag,hello,without,world"
   ]
  },
  {
   "cell_type": "code",
   "execution_count": 3,
   "id": "a8eb2979",
   "metadata": {},
   "outputs": [
    {
     "name": "stdout",
     "output_type": "stream",
     "text": [
      "enter the words : without,hello,bag,world\n",
      "bag,hello,without,world\n"
     ]
    }
   ],
   "source": [
    "sentence = input(\"enter the words : \").split(',')\n",
    "lst = []\n",
    "sentence.sort()\n",
    "print(*sentence,sep=',')"
   ]
  },
  {
   "cell_type": "markdown",
   "id": "41d52feb",
   "metadata": {},
   "source": [
    "<b>Question 4:"
   ]
  },
  {
   "cell_type": "markdown",
   "id": "8b831a39",
   "metadata": {},
   "source": [
    "Write a program that accepts a sequence of whitespace separated words as input and prints\n",
    "the words after removing all duplicate words and sorting them alphanumerically.\n",
    "Suppose the following input is supplied to the program:\n",
    "hello world and practice makes perfect and hello world again\n",
    "Then, the output should be:\n",
    "again and hello makes perfect practice world"
   ]
  },
  {
   "cell_type": "code",
   "execution_count": 4,
   "id": "d26d0aa5",
   "metadata": {},
   "outputs": [
    {
     "name": "stdout",
     "output_type": "stream",
     "text": [
      "enter the words : hello world and practice makes perfect and hello world again\n",
      "again and hello makes perfect practice world\n"
     ]
    }
   ],
   "source": [
    "sentence = input(\"enter the words : \").split(' ')\n",
    "\n",
    "print(\" \".join(sorted(set(sentence),key=str)))"
   ]
  },
  {
   "cell_type": "markdown",
   "id": "8c36a11e",
   "metadata": {},
   "source": [
    "<b>Question 5:"
   ]
  },
  {
   "cell_type": "markdown",
   "id": "d8c05a8e",
   "metadata": {},
   "source": [
    "Write a program that accepts a sentence and calculate the number of letters and digits.\n",
    "Suppose the following input is supplied to the program:\n",
    "hello world! 123\n",
    "Then, the output should be:\n",
    "LETTERS 10\n",
    "\n",
    "DIGITS 3"
   ]
  },
  {
   "cell_type": "code",
   "execution_count": 5,
   "id": "b4735b27",
   "metadata": {},
   "outputs": [
    {
     "name": "stdout",
     "output_type": "stream",
     "text": [
      "enter : hello world! 123\n",
      "LETTERS 10\n",
      "DIGITS 3\n"
     ]
    }
   ],
   "source": [
    "sentence = input(\"enter : \")\n",
    "digits = 0\n",
    "letters = 0\n",
    "for c in sentence :\n",
    "    if c.isdigit():\n",
    "        digits+=1\n",
    "    elif c.isalpha():\n",
    "        letters+=1\n",
    "    else:\n",
    "        pass\n",
    "    \n",
    "print(\"LETTERS\" , letters)\n",
    "print(\"DIGITS\" , digits )\n",
    "    "
   ]
  },
  {
   "cell_type": "markdown",
   "id": "c9cb7115",
   "metadata": {},
   "source": [
    "<b>Question 6:"
   ]
  },
  {
   "cell_type": "code",
   "execution_count": null,
   "id": "6befbda6",
   "metadata": {},
   "outputs": [],
   "source": [
    "A website requires the users to input username and password to register. Write a program to\n",
    "check the validity of password input by users.\n",
    "Following are the criteria for checking the password:\n",
    "1. At least 1 letter between [a-z]\n",
    "2. At least 1 number between [0-9]\n",
    "1. At least 1 letter between [A-Z]\n",
    "3. At least 1 character from [$#@]\n",
    "4. Minimum length of transaction password: 6\n",
    "5. Maximum length of transaction password: 12\n",
    "Your program should accept a sequence of comma separated passwords and will check them\n",
    "according to the above criteria. Passwords that match the criteria are to be printed, each\n",
    "separated by a comma.\n",
    "Example\n",
    "If the following passwords are given as input to the program:\n",
    "ABd1234@1,a F1#,2w3E*,2We3345\n",
    "Then, the output of the program should be:\n",
    "ABd1234@1"
   ]
  },
  {
   "cell_type": "code",
   "execution_count": 6,
   "id": "3da92b31",
   "metadata": {},
   "outputs": [],
   "source": [
    "def check_pass(s) :\n",
    "    lower,upper,spec,digit = 0,0,0,0\n",
    "    for i in s  :\n",
    "        if (len(s) >=6 and len(s) <=12): \n",
    "            if i.islower():\n",
    "                lower +=1\n",
    "            if i.isupper():\n",
    "                upper+=1 \n",
    "            if i.isdigit():\n",
    "                digit+=1\n",
    "            if i in '$#@' :\n",
    "                spec +=1 \n",
    "\n",
    "    if (lower!= 0 and upper != 0 and digit != 0 and spec != 0)  :\n",
    "        return s "
   ]
  },
  {
   "cell_type": "code",
   "execution_count": 7,
   "id": "4b39e686",
   "metadata": {},
   "outputs": [
    {
     "name": "stdout",
     "output_type": "stream",
     "text": [
      "enter the words : ABd1234@1,a F1#,2w3E*,2We3345\n",
      "ABd1234@1\n"
     ]
    }
   ],
   "source": [
    "se = input(\"enter the words : \").split(',')\n",
    "lst = []\n",
    "for i in se :\n",
    "    lst.append(check_pass(i))\n",
    "\n",
    "print(*list(filter(None,lst)),sep=',')"
   ]
  }
 ],
 "metadata": {
  "kernelspec": {
   "display_name": "Python 3",
   "language": "python",
   "name": "python3"
  },
  "language_info": {
   "codemirror_mode": {
    "name": "ipython",
    "version": 3
   },
   "file_extension": ".py",
   "mimetype": "text/x-python",
   "name": "python",
   "nbconvert_exporter": "python",
   "pygments_lexer": "ipython3",
   "version": "3.8.8"
  }
 },
 "nbformat": 4,
 "nbformat_minor": 5
}

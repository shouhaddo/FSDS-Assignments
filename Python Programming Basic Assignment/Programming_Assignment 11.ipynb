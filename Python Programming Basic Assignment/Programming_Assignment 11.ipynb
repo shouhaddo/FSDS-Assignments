{
 "cells": [
  {
   "cell_type": "markdown",
   "id": "2adf207d",
   "metadata": {},
   "source": [
    "<b>1. Write a Python program to find words which are greater than given length k?"
   ]
  },
  {
   "cell_type": "code",
   "execution_count": 1,
   "id": "597ba131",
   "metadata": {},
   "outputs": [
    {
     "name": "stdout",
     "output_type": "stream",
     "text": [
      "Enter the value of k : 3\n",
      "Words with length greater than 3 is : ['this', 'paul', 'doing', 'assignments']\n"
     ]
    }
   ],
   "source": [
    "k = int(input(\"Enter the value of k : \"))\n",
    "sentence = \" hey this is paul , i am doing my assignments \"\n",
    "lst = []\n",
    "for word in sentence.strip().split() :\n",
    "    if (len(word) > k) :\n",
    "        lst.append(word)\n",
    "        \n",
    "print(f\"Words with length greater than {k} is : {lst}\")"
   ]
  },
  {
   "cell_type": "markdown",
   "id": "44c7e69c",
   "metadata": {},
   "source": [
    "<b>2. Write a Python program for removing i-th character from a string?"
   ]
  },
  {
   "cell_type": "code",
   "execution_count": 3,
   "id": "5c776a86",
   "metadata": {},
   "outputs": [
    {
     "name": "stdout",
     "output_type": "stream",
     "text": [
      "Enter value of i : 4\n",
      "Shouaddo"
     ]
    }
   ],
   "source": [
    "i = int(input(\"Enter value of i : \"))\n",
    "word = \"Shouhaddo\"\n",
    "for j,c in enumerate(word) :\n",
    "    if j!=i :\n",
    "        print(word.join(c),end =\"\")"
   ]
  },
  {
   "cell_type": "markdown",
   "id": "f46342a1",
   "metadata": {},
   "source": [
    "<b>3. Write a Python program to split and join a string?"
   ]
  },
  {
   "cell_type": "code",
   "execution_count": 4,
   "id": "67a72e9b",
   "metadata": {},
   "outputs": [
    {
     "name": "stdout",
     "output_type": "stream",
     "text": [
      "['Hey', 'what', 'is', 'Up', '?']\n",
      "Hey-what-is-Up-?\n"
     ]
    }
   ],
   "source": [
    "def split_string(s):\n",
    "    return s.split(\" \")\n",
    "\n",
    "def join_string(lst):\n",
    "    return \"-\".join(lst)\n",
    "\n",
    "print(split_string(\"Hey what is Up ?\"))\n",
    "s = split_string(\"Hey what is Up ?\")\n",
    "print(join_string(s))"
   ]
  },
  {
   "cell_type": "markdown",
   "id": "b6492091",
   "metadata": {},
   "source": [
    "<b>4. Write a Python to check if a given string is binary string or not?"
   ]
  },
  {
   "cell_type": "code",
   "execution_count": 5,
   "id": "39ed2221",
   "metadata": {},
   "outputs": [
    {
     "name": "stdout",
     "output_type": "stream",
     "text": [
      "Enter a string : 101001010101\n",
      "binary String\n"
     ]
    }
   ],
   "source": [
    "s = input(\"Enter a string : \")\n",
    "if set(s) == {\"1\",\"0\"} or set(s) =={\"0\"} or set(s) == {\"1\"} :\n",
    "    print(\"binary String\")\n",
    "else :\n",
    "    print(\"Not binary\")"
   ]
  },
  {
   "cell_type": "markdown",
   "id": "1d6d9b35",
   "metadata": {},
   "source": [
    "<b>5. Write a Python program to find uncommon words from two Strings?"
   ]
  },
  {
   "cell_type": "code",
   "execution_count": 6,
   "id": "1e3872d5",
   "metadata": {},
   "outputs": [
    {
     "name": "stdout",
     "output_type": "stream",
     "text": [
      "enter string 1 : hey i am not\n",
      "enter string 2 : hey why am not\n",
      "['i', 'why']\n"
     ]
    }
   ],
   "source": [
    "str1 = input(\"enter string 1 : \").split()\n",
    "str2 = input(\"enter string 2 : \").split()\n",
    "a = [c for c in  str1 if c not in  str2]\n",
    "b = [c for c in  str2 if c not in  str1] \n",
    "print(a+b)"
   ]
  },
  {
   "cell_type": "markdown",
   "id": "b58d40d8",
   "metadata": {},
   "source": [
    "<b>6. Write a Python to find all duplicate characters in string?"
   ]
  },
  {
   "cell_type": "code",
   "execution_count": 7,
   "id": "bffa8eb9",
   "metadata": {},
   "outputs": [
    {
     "name": "stdout",
     "output_type": "stream",
     "text": [
      "e\n",
      "e\n",
      "a\n",
      "a\n",
      "a\n"
     ]
    }
   ],
   "source": [
    "s = \"heeyaandar\"\n",
    "for c in s :\n",
    "    if s.count(c) > 1 :\n",
    "            print(c)"
   ]
  },
  {
   "cell_type": "markdown",
   "id": "a68d2737",
   "metadata": {},
   "source": [
    "<b>7. Write a Python Program to check if a string contains any special character?"
   ]
  },
  {
   "cell_type": "code",
   "execution_count": 8,
   "id": "8de6b5f0",
   "metadata": {},
   "outputs": [
    {
     "name": "stdout",
     "output_type": "stream",
     "text": [
      "enter the string ------  hey , wassup !\n",
      "yes it contains special characters\n"
     ]
    }
   ],
   "source": [
    "sc = \" !\\\"#$%&'()*+,-./:;<=>?@[\\]^_`{|}~\"\n",
    "st =input(\"enter the string ------  \")\n",
    "\n",
    "if any(c in sc for c in st):\n",
    "    print(\"yes it contains special characters\")\n",
    "else:\n",
    "    print(\"no it doesnot contains !\")"
   ]
  }
 ],
 "metadata": {
  "kernelspec": {
   "display_name": "Python 3",
   "language": "python",
   "name": "python3"
  },
  "language_info": {
   "codemirror_mode": {
    "name": "ipython",
    "version": 3
   },
   "file_extension": ".py",
   "mimetype": "text/x-python",
   "name": "python",
   "nbconvert_exporter": "python",
   "pygments_lexer": "ipython3",
   "version": "3.8.8"
  }
 },
 "nbformat": 4,
 "nbformat_minor": 5
}

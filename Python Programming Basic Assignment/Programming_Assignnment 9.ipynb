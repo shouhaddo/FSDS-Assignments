{
 "cells": [
  {
   "cell_type": "markdown",
   "id": "00d16c01",
   "metadata": {},
   "source": [
    "<b>1. Write a Python program to check if the given number is a Disarium Number?"
   ]
  },
  {
   "cell_type": "code",
   "execution_count": 1,
   "id": "80d1d341",
   "metadata": {
    "scrolled": true
   },
   "outputs": [
    {
     "name": "stdout",
     "output_type": "stream",
     "text": [
      "enter a number : 175\n",
      "This is Disarium  Number \n"
     ]
    }
   ],
   "source": [
    "n = input(\"enter a number : \")\n",
    "s = 0 \n",
    "for i,digit in enumerate(n,1):\n",
    "    s += int(digit)**i  \n",
    "    \n",
    "print(\"This is Disarium  Number \") if s == int(n) else print(\"This is not a Disarium  Number \") "
   ]
  },
  {
   "cell_type": "markdown",
   "id": "348224c6",
   "metadata": {},
   "source": [
    "<b>2. Write a Python program to print all disarium numbers between 1 to 100?"
   ]
  },
  {
   "cell_type": "code",
   "execution_count": 2,
   "id": "833dde64",
   "metadata": {},
   "outputs": [
    {
     "name": "stdout",
     "output_type": "stream",
     "text": [
      "0\n",
      "1\n",
      "2\n",
      "3\n",
      "4\n",
      "5\n",
      "6\n",
      "7\n",
      "8\n",
      "9\n",
      "89\n"
     ]
    }
   ],
   "source": [
    "for num in range(101):\n",
    "    s=0\n",
    "    for i,digit in enumerate(str(num),1):\n",
    "        s += int(digit)**i \n",
    "        \n",
    "    if s == int(num):\n",
    "        print(s)"
   ]
  },
  {
   "cell_type": "markdown",
   "id": "f147e32e",
   "metadata": {},
   "source": [
    "<b>3. Write a Python program to check if the given number is Happy Number?"
   ]
  },
  {
   "cell_type": "code",
   "execution_count": 3,
   "id": "35eef4e8",
   "metadata": {},
   "outputs": [],
   "source": [
    "def SumOfSquares(n):\n",
    "    s=0\n",
    "    for i in str(n):\n",
    "        s += int(i)**2\n",
    "        \n",
    "    if (len(str(s)) > 1) or (s == 1) or (s == 7) :\n",
    "        return True ,s\n",
    "    else :\n",
    "        return False ,s"
   ]
  },
  {
   "cell_type": "code",
   "execution_count": 4,
   "id": "ea5ccf2f",
   "metadata": {},
   "outputs": [
    {
     "name": "stdout",
     "output_type": "stream",
     "text": [
      "Enter a Number : 19\n",
      "*******It is a Happy Number*********\n"
     ]
    }
   ],
   "source": [
    "num = int(input(\"Enter a Number : \"))\n",
    "while (num>0):\n",
    "    a,b=SumOfSquares(num)\n",
    "    if a == True :\n",
    "        if b == 1 :\n",
    "            print(\"*******It is a Happy Number*********\")\n",
    "            break\n",
    "        else :\n",
    "            num = b\n",
    "    else :\n",
    "        print(\"!!!!!!! It is not a happy Number !!!!!!!!!!!!\")\n",
    "        break"
   ]
  },
  {
   "cell_type": "markdown",
   "id": "63ced021",
   "metadata": {},
   "source": [
    "<b>4. Write a Python program to print all happy numbers between 1 and 100?"
   ]
  },
  {
   "cell_type": "code",
   "execution_count": 5,
   "id": "d69c47a8",
   "metadata": {},
   "outputs": [
    {
     "name": "stdout",
     "output_type": "stream",
     "text": [
      "1\n",
      "7\n",
      "10\n",
      "13\n",
      "19\n",
      "23\n",
      "28\n",
      "31\n",
      "32\n",
      "44\n",
      "49\n",
      "68\n",
      "70\n",
      "79\n",
      "82\n",
      "86\n",
      "91\n",
      "94\n",
      "97\n",
      "100\n"
     ]
    }
   ],
   "source": [
    "for num in range(101) : \n",
    "    n = num\n",
    "    while (num>0):\n",
    "        a,b=SumOfSquares(num)\n",
    "        if a == True :\n",
    "            if b == 1 :\n",
    "                print(n)\n",
    "                break\n",
    "            else :\n",
    "                num = b\n",
    "        else :\n",
    "            break"
   ]
  },
  {
   "cell_type": "markdown",
   "id": "2c1736fe",
   "metadata": {},
   "source": [
    "<b>5. Write a Python program to determine whether the given number is a Harshad Number?"
   ]
  },
  {
   "cell_type": "code",
   "execution_count": 6,
   "id": "5a59ecfb",
   "metadata": {},
   "outputs": [],
   "source": [
    "def SumOfDigits(n) :\n",
    "    s=0\n",
    "    while(n>0) :\n",
    "        rem = n % 10 \n",
    "        s +=rem\n",
    "        n =n //10\n",
    "        \n",
    "    return s"
   ]
  },
  {
   "cell_type": "code",
   "execution_count": 7,
   "id": "350a2f2c",
   "metadata": {},
   "outputs": [
    {
     "name": "stdout",
     "output_type": "stream",
     "text": [
      "Enter the Number : 156\n",
      "It is a Harshad Number\n"
     ]
    }
   ],
   "source": [
    "num = int(input(\"Enter the Number : \"))\n",
    "if num % SumOfDigits(num) == 0:\n",
    "    print(\"It is a Harshad Number\")\n",
    "else :\n",
    "    print(\"It is not a Harshad Number\")"
   ]
  },
  {
   "cell_type": "markdown",
   "id": "7f46b3e9",
   "metadata": {},
   "source": [
    "<b>6. Write a Python program to print all pronic numbers between 1 and 100?"
   ]
  },
  {
   "cell_type": "code",
   "execution_count": 8,
   "id": "1a6e353e",
   "metadata": {},
   "outputs": [],
   "source": [
    "def checkPronic(num):\n",
    "    for i in range(1,num+1):\n",
    "        if (i * (i+1)) == num :\n",
    "            return True\n",
    "        elif (i * (i+1)) > num :\n",
    "            return False"
   ]
  },
  {
   "cell_type": "code",
   "execution_count": 9,
   "id": "c5d785a1",
   "metadata": {},
   "outputs": [
    {
     "name": "stdout",
     "output_type": "stream",
     "text": [
      "2\n",
      "6\n",
      "12\n",
      "20\n",
      "30\n",
      "42\n",
      "56\n",
      "72\n",
      "90\n"
     ]
    }
   ],
   "source": [
    "for i in range(1,101) :\n",
    "    if checkPronic(i):\n",
    "        print(i)"
   ]
  }
 ],
 "metadata": {
  "kernelspec": {
   "display_name": "Python 3",
   "language": "python",
   "name": "python3"
  },
  "language_info": {
   "codemirror_mode": {
    "name": "ipython",
    "version": 3
   },
   "file_extension": ".py",
   "mimetype": "text/x-python",
   "name": "python",
   "nbconvert_exporter": "python",
   "pygments_lexer": "ipython3",
   "version": "3.8.8"
  }
 },
 "nbformat": 4,
 "nbformat_minor": 5
}

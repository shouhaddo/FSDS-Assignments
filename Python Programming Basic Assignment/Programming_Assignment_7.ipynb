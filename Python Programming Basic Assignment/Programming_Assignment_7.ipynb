{
 "cells": [
  {
   "cell_type": "markdown",
   "id": "ad2556cf",
   "metadata": {},
   "source": [
    "<b> 1. Write a Python Program to find sum of array?"
   ]
  },
  {
   "cell_type": "code",
   "execution_count": 1,
   "id": "f10e7b2e",
   "metadata": {},
   "outputs": [
    {
     "name": "stdout",
     "output_type": "stream",
     "text": [
      "Sum of array =  21\n"
     ]
    }
   ],
   "source": [
    "array = [1,2,3,4,5,6]\n",
    "print(\"Sum of array = \" ,sum(array))"
   ]
  },
  {
   "cell_type": "markdown",
   "id": "49a90531",
   "metadata": {},
   "source": [
    "\n",
    "<b>2. Write a Python Program to find largest element in an array?"
   ]
  },
  {
   "cell_type": "code",
   "execution_count": 2,
   "id": "e23529ff",
   "metadata": {},
   "outputs": [
    {
     "name": "stdout",
     "output_type": "stream",
     "text": [
      "max of array =  6\n"
     ]
    }
   ],
   "source": [
    "array = [1,2,3,4,5,6]\n",
    "print(\"max of array = \" ,max(array))"
   ]
  },
  {
   "cell_type": "markdown",
   "id": "d11be1ec",
   "metadata": {},
   "source": [
    "<b>\n",
    "3. Write a Python Program for array rotation?"
   ]
  },
  {
   "cell_type": "code",
   "execution_count": 3,
   "id": "16a50340",
   "metadata": {},
   "outputs": [
    {
     "data": {
      "text/plain": [
       "[6, 5, 4, 3, 2, 1]"
      ]
     },
     "execution_count": 3,
     "metadata": {},
     "output_type": "execute_result"
    }
   ],
   "source": [
    "array = [1,2,3,4,5,6]\n",
    "array[::-1]"
   ]
  },
  {
   "cell_type": "markdown",
   "id": "2149db07",
   "metadata": {},
   "source": [
    "<b>\n",
    "4. Write a Python Program to Split the array and add the first part to the end?"
   ]
  },
  {
   "cell_type": "code",
   "execution_count": 11,
   "id": "d3d1225a",
   "metadata": {},
   "outputs": [
    {
     "data": {
      "text/plain": [
       "[2, 3, 4, 5, 6, 1]"
      ]
     },
     "execution_count": 11,
     "metadata": {},
     "output_type": "execute_result"
    }
   ],
   "source": [
    "array = [1,2,3,4,5,6]\n",
    "\n",
    "array[1:] +array[0:1]"
   ]
  },
  {
   "cell_type": "markdown",
   "id": "ac358b94",
   "metadata": {},
   "source": [
    "<b>\n",
    "5. Write a Python Program to check if given array is Monotonic?"
   ]
  },
  {
   "cell_type": "code",
   "execution_count": 39,
   "id": "da372373",
   "metadata": {},
   "outputs": [],
   "source": [
    "def monotonic(array):\n",
    "    return (sum([array[i] <= array[i+1] for i in range(len(array)-1)]) == (len(array)-1)) or (sum([array[i] >= array[i+1] for i in range(len(array)-1)]) == (len(array)-1))"
   ]
  },
  {
   "cell_type": "code",
   "execution_count": 40,
   "id": "0a1f1d24",
   "metadata": {
    "scrolled": true
   },
   "outputs": [
    {
     "data": {
      "text/plain": [
       "False"
      ]
     },
     "execution_count": 40,
     "metadata": {},
     "output_type": "execute_result"
    }
   ],
   "source": [
    "monotonic([1,1,2,32,2])"
   ]
  },
  {
   "cell_type": "code",
   "execution_count": 41,
   "id": "d6b680db",
   "metadata": {},
   "outputs": [
    {
     "data": {
      "text/plain": [
       "True"
      ]
     },
     "execution_count": 41,
     "metadata": {},
     "output_type": "execute_result"
    }
   ],
   "source": [
    "monotonic([1,1,2,3,4,4])"
   ]
  },
  {
   "cell_type": "code",
   "execution_count": 42,
   "id": "1b1a468c",
   "metadata": {},
   "outputs": [
    {
     "data": {
      "text/plain": [
       "True"
      ]
     },
     "execution_count": 42,
     "metadata": {},
     "output_type": "execute_result"
    }
   ],
   "source": [
    "monotonic([9,8,5,4,1])"
   ]
  }
 ],
 "metadata": {
  "kernelspec": {
   "display_name": "Python 3",
   "language": "python",
   "name": "python3"
  },
  "language_info": {
   "codemirror_mode": {
    "name": "ipython",
    "version": 3
   },
   "file_extension": ".py",
   "mimetype": "text/x-python",
   "name": "python",
   "nbconvert_exporter": "python",
   "pygments_lexer": "ipython3",
   "version": "3.8.8"
  }
 },
 "nbformat": 4,
 "nbformat_minor": 5
}

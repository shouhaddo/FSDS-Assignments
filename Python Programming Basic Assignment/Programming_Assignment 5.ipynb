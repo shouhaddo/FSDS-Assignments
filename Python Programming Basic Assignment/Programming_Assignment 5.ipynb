{
 "cells": [
  {
   "cell_type": "markdown",
   "id": "8db81897",
   "metadata": {},
   "source": [
    "<b>1. Write a Python Program to Find LCM?"
   ]
  },
  {
   "cell_type": "code",
   "execution_count": 4,
   "id": "db1ea163",
   "metadata": {},
   "outputs": [
    {
     "name": "stdout",
     "output_type": "stream",
     "text": [
      "Enter the two numbers : 10 5\n",
      "lcm : 10\n"
     ]
    }
   ],
   "source": [
    "num1,num2 = map(int,input(\"Enter the two numbers : \").split())\n",
    "if num1 > num2:  \n",
    "    greater = num1  \n",
    "else:  \n",
    "    greater = num2  \n",
    "while(True):  \n",
    "    if((greater % num1 == 0) and (greater % num2 == 0)):  \n",
    "        lcm = greater  \n",
    "        break  \n",
    "    greater += 1  \n",
    "print(f\"lcm : {lcm}\")    "
   ]
  },
  {
   "cell_type": "markdown",
   "id": "7884bd15",
   "metadata": {},
   "source": [
    "<b>2.Write a Python Program to Find HCF?"
   ]
  },
  {
   "cell_type": "code",
   "execution_count": 8,
   "id": "bb00a4bc",
   "metadata": {},
   "outputs": [
    {
     "name": "stdout",
     "output_type": "stream",
     "text": [
      "Enter the two numbers2 4\n",
      "hcf : 2\n"
     ]
    }
   ],
   "source": [
    "num1,num2 = map(int,input(\"Enter the two numbers\").split())\n",
    "if num1 > num2:\n",
    "    smaller = num2\n",
    "else:\n",
    "    smaller = num1\n",
    "for i in range(1, smaller+1):\n",
    "    if((num2 % i == 0) and (num2 % i == 0)):\n",
    "        hcf = i \n",
    "print(f\"hcf : {hcf}\")"
   ]
  },
  {
   "cell_type": "markdown",
   "id": "2bb6d807",
   "metadata": {},
   "source": [
    "<b>3.Write a Python Program to Convert Decimal to Binary, Octal and Hexadecimal?"
   ]
  },
  {
   "cell_type": "code",
   "execution_count": 23,
   "id": "5d5ad5e8",
   "metadata": {},
   "outputs": [
    {
     "name": "stdout",
     "output_type": "stream",
     "text": [
      " Enter the number : 144\n",
      " Number = 144.0\n",
      " Binary : 0b10010000\n",
      " Octal : 0o220\n",
      " Hexadecimal : 0x90\n"
     ]
    }
   ],
   "source": [
    "num = float(input(\" Enter the number : \"))\n",
    "print(f\" Number = {num}\")\n",
    "print(f\" Binary : {bin(int(num))}\")\n",
    "print(f\" Octal : {oct(int(num))}\")\n",
    "print(f\" Hexadecimal : {hex(int(num))}\")"
   ]
  },
  {
   "cell_type": "markdown",
   "id": "164a4147",
   "metadata": {},
   "source": [
    "<b>4.Write a Python Program To Find ASCII value of a character?"
   ]
  },
  {
   "cell_type": "code",
   "execution_count": 32,
   "id": "a7d7fa46",
   "metadata": {},
   "outputs": [
    {
     "name": "stdout",
     "output_type": "stream",
     "text": [
      " Enter the characterp\n",
      " The ASCII value of p is 112\n"
     ]
    }
   ],
   "source": [
    "char = input(\" Enter the character\")\n",
    "print(f\" The ASCII value of {char } is {ord(char)}\")"
   ]
  },
  {
   "cell_type": "markdown",
   "id": "a08f9e4e",
   "metadata": {},
   "source": [
    "<b>5.Write a Python Program to Make a Simple Calculator with 4 basic mathematical operations?"
   ]
  },
  {
   "cell_type": "code",
   "execution_count": 33,
   "id": "c98629bd",
   "metadata": {},
   "outputs": [
    {
     "name": "stdout",
     "output_type": "stream",
     "text": [
      " Addition = 15 \n",
      " Subtraction = 5 \n",
      " Division = 2.0 \n",
      " Multiplication = 50 \n"
     ]
    }
   ],
   "source": [
    "def calc(n1,n2):\n",
    "    print(f\" Addition = {n1+n2} \")\n",
    "    print(f\" Subtraction = {n1-n2} \")\n",
    "    print(f\" Division = {n1/n2} \")\n",
    "    print(f\" Multiplication = {n1*n2} \")\n",
    "    \n",
    "calc(10,5)"
   ]
  }
 ],
 "metadata": {
  "kernelspec": {
   "display_name": "Python 3",
   "language": "python",
   "name": "python3"
  },
  "language_info": {
   "codemirror_mode": {
    "name": "ipython",
    "version": 3
   },
   "file_extension": ".py",
   "mimetype": "text/x-python",
   "name": "python",
   "nbconvert_exporter": "python",
   "pygments_lexer": "ipython3",
   "version": "3.8.8"
  }
 },
 "nbformat": 4,
 "nbformat_minor": 5
}

{
 "cells": [
  {
   "cell_type": "markdown",
   "id": "48dbfedd",
   "metadata": {},
   "source": [
    "<b>1.Write a Python Program to Find the Factorial of a Number?"
   ]
  },
  {
   "cell_type": "code",
   "execution_count": 9,
   "id": "82dcbb18",
   "metadata": {},
   "outputs": [
    {
     "name": "stdout",
     "output_type": "stream",
     "text": [
      "Enter the number5\n",
      "factorial of 5 = 120\n"
     ]
    }
   ],
   "source": [
    "def fact(n):\n",
    "    if (n==0 or n==1) :\n",
    "        return 1\n",
    "    else :\n",
    "        return n *fact(n-1)\n",
    "    \n",
    "num = int(input(\"Enter the number\"))\n",
    "print(f\"factorial of {num} = {fact(num)}\")"
   ]
  },
  {
   "cell_type": "markdown",
   "id": "49f56406",
   "metadata": {},
   "source": [
    "<b>2. Write a Python Program to Display the multiplication Table?"
   ]
  },
  {
   "cell_type": "code",
   "execution_count": 10,
   "id": "cd5a0f49",
   "metadata": {},
   "outputs": [
    {
     "name": "stdout",
     "output_type": "stream",
     "text": [
      "Enter the number5\n",
      "5 * 1 = 5 \n",
      "5 * 2 = 10 \n",
      "5 * 3 = 15 \n",
      "5 * 4 = 20 \n",
      "5 * 5 = 25 \n",
      "5 * 6 = 30 \n",
      "5 * 7 = 35 \n",
      "5 * 8 = 40 \n",
      "5 * 9 = 45 \n",
      "5 * 10 = 50 \n"
     ]
    }
   ],
   "source": [
    "num = int(input(\"Enter the number\"))\n",
    "for i in range(1,10+1) :\n",
    "    print(f\"{num} * { i} = {num*i} \")"
   ]
  },
  {
   "cell_type": "markdown",
   "id": "d088b910",
   "metadata": {},
   "source": [
    "<b>3. Write a Python Program to Print the Fibonacci sequence?"
   ]
  },
  {
   "cell_type": "code",
   "execution_count": 26,
   "id": "b4f48062",
   "metadata": {},
   "outputs": [
    {
     "name": "stdout",
     "output_type": "stream",
     "text": [
      "Enter the number of fionacci numbers you want 10\n",
      "0\n",
      "1\n",
      "1\n",
      "2\n",
      "3\n",
      "5\n",
      "8\n",
      "13\n",
      "21\n",
      "34\n"
     ]
    }
   ],
   "source": [
    "num = int(input(\"Enter the number of fionacci numbers you want \"))\n",
    "\n",
    "num0 =0 \n",
    "num1 =1\n",
    "print(num0,num1,sep=\"\\n\")\n",
    "for i in range(2,num):\n",
    "    num2 = num0 +num1\n",
    "    print(num2)\n",
    "    num0 = num1\n",
    "    num1 =num2"
   ]
  },
  {
   "cell_type": "markdown",
   "id": "6908bd8f",
   "metadata": {},
   "source": [
    "<b>4. \n",
    "Write a Python Program to Check Armstrong Number?"
   ]
  },
  {
   "cell_type": "code",
   "execution_count": 35,
   "id": "18fd6a47",
   "metadata": {},
   "outputs": [
    {
     "name": "stdout",
     "output_type": "stream",
     "text": [
      "Enter the number : 371\n"
     ]
    },
    {
     "data": {
      "text/plain": [
       "'Armstrong Number'"
      ]
     },
     "execution_count": 35,
     "metadata": {},
     "output_type": "execute_result"
    }
   ],
   "source": [
    "num = int(input(\"Enter the number : \"))\n",
    "sum=0\n",
    "for i in str(num):\n",
    "    sum = int(i)**3 +sum\n",
    "\"Armstrong Number\" if sum == num else \"Not Armstrong Number\""
   ]
  },
  {
   "cell_type": "markdown",
   "id": "acdae071",
   "metadata": {},
   "source": [
    "\n",
    "<b>5.Write a Python Program to Find Armstrong Number in an Interval?"
   ]
  },
  {
   "cell_type": "code",
   "execution_count": 58,
   "id": "971595bc",
   "metadata": {},
   "outputs": [
    {
     "name": "stdout",
     "output_type": "stream",
     "text": [
      "Enter the interval :5 300\n",
      "153\n"
     ]
    }
   ],
   "source": [
    "low ,high = map(int,input(\"Enter the interval :\").split())\n",
    "for i in range(low,high+1) :\n",
    "    sm = 0\n",
    "    for j in str(i) :\n",
    "        sm = int(j)**3 +sm\n",
    "    if sm == i :        \n",
    "        print(i)"
   ]
  },
  {
   "cell_type": "markdown",
   "id": "4c824173",
   "metadata": {},
   "source": [
    "<b>6. Write a Python Program to Find the Sum of Natural Numbers?\n"
   ]
  },
  {
   "cell_type": "code",
   "execution_count": 63,
   "id": "ad8314a3",
   "metadata": {},
   "outputs": [
    {
     "name": "stdout",
     "output_type": "stream",
     "text": [
      "Enter the number till which you want the sum : 10\n",
      "Sum of all the natural numbers till 10 = 55\n"
     ]
    }
   ],
   "source": [
    "num = int(input(\"Enter the number till which you want the sum : \"))\n",
    "s= 0 \n",
    "for i in range(0,num+1):\n",
    "    s +=i\n",
    "print(f\"Sum of all the natural numbers till {num} = {s}\")"
   ]
  }
 ],
 "metadata": {
  "kernelspec": {
   "display_name": "Python 3",
   "language": "python",
   "name": "python3"
  },
  "language_info": {
   "codemirror_mode": {
    "name": "ipython",
    "version": 3
   },
   "file_extension": ".py",
   "mimetype": "text/x-python",
   "name": "python",
   "nbconvert_exporter": "python",
   "pygments_lexer": "ipython3",
   "version": "3.8.8"
  }
 },
 "nbformat": 4,
 "nbformat_minor": 5
}

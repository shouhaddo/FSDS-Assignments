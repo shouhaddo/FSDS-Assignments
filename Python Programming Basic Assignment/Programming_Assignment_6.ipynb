{
 "cells": [
  {
   "cell_type": "markdown",
   "id": "9115f300",
   "metadata": {},
   "source": [
    "<b> 1. Write a Python Program to Display Fibonacci Sequence Using Recursion?"
   ]
  },
  {
   "cell_type": "code",
   "execution_count": 24,
   "id": "cdac0775",
   "metadata": {},
   "outputs": [],
   "source": [
    "def fib(n) :\n",
    "    if ((n==1) or (n==2)):\n",
    "        return 1\n",
    "    elif n>2 :\n",
    "        return (fib(n-1) + fib(n-2))"
   ]
  },
  {
   "cell_type": "code",
   "execution_count": 26,
   "id": "13b6bd0e",
   "metadata": {},
   "outputs": [
    {
     "name": "stdout",
     "output_type": "stream",
     "text": [
      "Enter the number of fibinacci terms needed :5\n",
      "1\n",
      "1\n",
      "2\n",
      "3\n",
      "5\n"
     ]
    }
   ],
   "source": [
    "num = int(input(\"Enter the number of fibinacci terms needed :\"))\n",
    "for i in range(1,num+1):\n",
    "    print(fib(i))"
   ]
  },
  {
   "cell_type": "markdown",
   "id": "18a33217",
   "metadata": {},
   "source": [
    "<b>2. Write a Python Program to Find Factorial of Number Using Recursion?"
   ]
  },
  {
   "cell_type": "code",
   "execution_count": 39,
   "id": "ea50fdd2",
   "metadata": {},
   "outputs": [],
   "source": [
    "def fact(n) :\n",
    "    if n == 0 or n==1 :\n",
    "        return 1\n",
    "    elif n>1 :\n",
    "        return n * fact(n-1)"
   ]
  },
  {
   "cell_type": "code",
   "execution_count": 44,
   "id": "e21d8f9e",
   "metadata": {},
   "outputs": [
    {
     "name": "stdout",
     "output_type": "stream",
     "text": [
      "Enter the number 5\n",
      "factorial of 5 is 120\n"
     ]
    }
   ],
   "source": [
    "num = int(input(\"Enter the number \"))\n",
    "print(f\"factorial of {num} is {fact(num)}\")"
   ]
  },
  {
   "cell_type": "markdown",
   "id": "906c0e9a",
   "metadata": {},
   "source": [
    "<b>\n",
    "3. Write a Python Program to calculate your Body Mass Index?"
   ]
  },
  {
   "cell_type": "code",
   "execution_count": 46,
   "id": "41985947",
   "metadata": {},
   "outputs": [
    {
     "name": "stdout",
     "output_type": "stream",
     "text": [
      "Enter your height in meters 1.7392\n",
      "Enter the weight in kg 70\n",
      "Your BMI is : 23.141898611084073\n"
     ]
    }
   ],
   "source": [
    "height = float(input(\"Enter your height in meters \"))\n",
    "weight = float(input(\"Enter the weight in kg \"))\n",
    "print(f\"Your BMI is : {weight / (height **2)}\")"
   ]
  },
  {
   "cell_type": "markdown",
   "id": "29916280",
   "metadata": {},
   "source": [
    "<b>\n",
    "4. Write a Python Program to calculate the natural logarithm of any number?"
   ]
  },
  {
   "cell_type": "code",
   "execution_count": 49,
   "id": "70bb8229",
   "metadata": {},
   "outputs": [
    {
     "name": "stdout",
     "output_type": "stream",
     "text": [
      "Enter the number 5\n",
      "1.6094379124341003\n"
     ]
    }
   ],
   "source": [
    "import math\n",
    "num = int(input(\"Enter the number \"))\n",
    "print(math.log(num))"
   ]
  },
  {
   "cell_type": "markdown",
   "id": "b1cea37b",
   "metadata": {},
   "source": [
    "<b>\n",
    "5. Write a Python Program for cube sum of first n natural numbers?"
   ]
  },
  {
   "cell_type": "code",
   "execution_count": 57,
   "id": "5ad2d823",
   "metadata": {},
   "outputs": [
    {
     "name": "stdout",
     "output_type": "stream",
     "text": [
      "Enter the number 5\n",
      "+ 0 + 1 + 8 + 27 + 64  =  100\n"
     ]
    }
   ],
   "source": [
    "num = int(input(\"Enter the number \"))\n",
    "s =0 \n",
    "for i in range(num) :\n",
    "    s += i**3\n",
    "    print(f\"+ {i**3} \",end=\"\")\n",
    "print(\" = \" , s)"
   ]
  }
 ],
 "metadata": {
  "kernelspec": {
   "display_name": "Python 3",
   "language": "python",
   "name": "python3"
  },
  "language_info": {
   "codemirror_mode": {
    "name": "ipython",
    "version": 3
   },
   "file_extension": ".py",
   "mimetype": "text/x-python",
   "name": "python",
   "nbconvert_exporter": "python",
   "pygments_lexer": "ipython3",
   "version": "3.8.8"
  }
 },
 "nbformat": 4,
 "nbformat_minor": 5
}

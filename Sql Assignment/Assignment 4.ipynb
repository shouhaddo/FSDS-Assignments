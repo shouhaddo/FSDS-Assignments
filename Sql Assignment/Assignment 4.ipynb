{
 "cells": [
  {
   "cell_type": "markdown",
   "id": "bcf4235c",
   "metadata": {},
   "source": [
    "<b> Q-1. Write an SQL query to print the FIRST_NAME from Worker table after replacing ‘a’\n",
    "with ‘A’.\n"
   ]
  },
  {
   "cell_type": "markdown",
   "id": "ec7d21f5",
   "metadata": {},
   "source": [
    "Select replace(FIRST_NAME,'a','A') from Worker"
   ]
  },
  {
   "cell_type": "markdown",
   "id": "682d4acf",
   "metadata": {},
   "source": [
    "<b>Q-2. Write an SQL query to print all Worker details from the Worker table order by\n",
    "FIRST_NAME Ascending and DEPARTMENT Descending.\n"
   ]
  },
  {
   "cell_type": "markdown",
   "id": "b9b4f722",
   "metadata": {},
   "source": [
    "Select *  from Worker order by FIRST_NAME asc , DEPARTMENT desc"
   ]
  },
  {
   "cell_type": "markdown",
   "id": "1ca32489",
   "metadata": {},
   "source": [
    "<b>Q-3. Write an SQL query to fetch the names of workers who earn the highest salary."
   ]
  },
  {
   "cell_type": "markdown",
   "id": "271e6031",
   "metadata": {},
   "source": [
    "Select First_NAME , max(salary) from worker group by DEPARTMENT"
   ]
  }
 ],
 "metadata": {
  "kernelspec": {
   "display_name": "Python 3",
   "language": "python",
   "name": "python3"
  },
  "language_info": {
   "codemirror_mode": {
    "name": "ipython",
    "version": 3
   },
   "file_extension": ".py",
   "mimetype": "text/x-python",
   "name": "python",
   "nbconvert_exporter": "python",
   "pygments_lexer": "ipython3",
   "version": "3.8.8"
  }
 },
 "nbformat": 4,
 "nbformat_minor": 5
}

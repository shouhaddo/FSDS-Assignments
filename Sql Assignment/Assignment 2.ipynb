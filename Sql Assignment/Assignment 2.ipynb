{
 "cells": [
  {
   "cell_type": "markdown",
   "id": "44a391ee",
   "metadata": {},
   "source": [
    "<b>Q-1. Write an SQL query to print the first three characters of  FIRST_NAME from Worker\n",
    "table.\n",
    " "
   ]
  },
  {
   "cell_type": "markdown",
   "id": "5176199e",
   "metadata": {},
   "source": [
    "Select SUBSTRING(FIRST_NAME, 1, 3) from worker"
   ]
  },
  {
   "cell_type": "markdown",
   "id": "045a1c01",
   "metadata": {},
   "source": [
    "<b>Q-2. Write an SQL query to find the position of the alphabet (‘a’) in the first name\n",
    "column ‘Amitabh’ from Worker table.\n"
   ]
  },
  {
   "cell_type": "markdown",
   "id": "ed6d14d7",
   "metadata": {},
   "source": [
    "Select  CHARINDEX(\"a\",FIRST_NAME) from Worker"
   ]
  },
  {
   "cell_type": "markdown",
   "id": "1d0e9402",
   "metadata": {},
   "source": [
    "<b>Q-3. Write an SQL query to print the name of employees having the highest salary in each\n",
    "department."
   ]
  },
  {
   "cell_type": "markdown",
   "id": "435b968d",
   "metadata": {},
   "source": [
    "Select FIRST_NAME , max(salary) from Worker group by department"
   ]
  }
 ],
 "metadata": {
  "kernelspec": {
   "display_name": "Python 3",
   "language": "python",
   "name": "python3"
  },
  "language_info": {
   "codemirror_mode": {
    "name": "ipython",
    "version": 3
   },
   "file_extension": ".py",
   "mimetype": "text/x-python",
   "name": "python",
   "nbconvert_exporter": "python",
   "pygments_lexer": "ipython3",
   "version": "3.8.8"
  }
 },
 "nbformat": 4,
 "nbformat_minor": 5
}

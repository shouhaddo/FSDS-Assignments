{
 "cells": [
  {
   "cell_type": "markdown",
   "id": "176d898d",
   "metadata": {},
   "source": [
    "<b>Q-1. Write an SQL query to print the FIRST_NAME from Worker table after removing\n",
    "white spaces from the right side.\n"
   ]
  },
  {
   "cell_type": "markdown",
   "id": "3b8446e6",
   "metadata": {},
   "source": [
    "Select rtrim(FIRST_NAME) from worker "
   ]
  },
  {
   "cell_type": "markdown",
   "id": "ad0c768a",
   "metadata": {},
   "source": [
    "<b>Q-2. Write an SQL query that fetches the unique values of DEPARTMENT from Worker\n",
    "table and prints its length.\n"
   ]
  },
  {
   "cell_type": "markdown",
   "id": "257f810c",
   "metadata": {},
   "source": [
    "select distinct(Deparment) , len(Department) from worker "
   ]
  },
  {
   "cell_type": "markdown",
   "id": "bc2e0ddd",
   "metadata": {},
   "source": [
    "<b>Q-3. Write an SQL query to fetch nth max salaries from a table."
   ]
  },
  {
   "cell_type": "markdown",
   "id": "1e7fb8b2",
   "metadata": {},
   "source": [
    "Select FIRST_NAME from table_name where Salary =( Select Salary from table_name order by Salary DESC limit n-1,1)"
   ]
  }
 ],
 "metadata": {
  "kernelspec": {
   "display_name": "Python 3",
   "language": "python",
   "name": "python3"
  },
  "language_info": {
   "codemirror_mode": {
    "name": "ipython",
    "version": 3
   },
   "file_extension": ".py",
   "mimetype": "text/x-python",
   "name": "python",
   "nbconvert_exporter": "python",
   "pygments_lexer": "ipython3",
   "version": "3.8.8"
  }
 },
 "nbformat": 4,
 "nbformat_minor": 5
}

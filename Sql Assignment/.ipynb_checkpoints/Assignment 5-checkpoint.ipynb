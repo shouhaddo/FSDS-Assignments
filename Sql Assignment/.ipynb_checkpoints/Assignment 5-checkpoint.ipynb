{
 "cells": [
  {
   "cell_type": "markdown",
   "id": "92157575",
   "metadata": {},
   "source": [
    "<b>Q-1. Write an SQL query to print details of workers excluding first names, “Vipul” and\n",
    "“Satish” from Worker table.\n"
   ]
  },
  {
   "cell_type": "markdown",
   "id": "3df99d29",
   "metadata": {},
   "source": [
    "Select * from Worker where FIRST_NAME not in ('Vipul','Satish')"
   ]
  },
  {
   "cell_type": "markdown",
   "id": "44cccc8e",
   "metadata": {},
   "source": [
    "<b>Q-2. Write an SQL query to print details of the Workers whose FIRST_NAME ends with\n",
    "‘h’ and contains six alphabets.\n"
   ]
  },
  {
   "cell_type": "markdown",
   "id": "abdc84f4",
   "metadata": {},
   "source": [
    "Select * from Worker where len(FIRST_NAME) = 6  and FIRST_NAME like '%h' "
   ]
  },
  {
   "cell_type": "markdown",
   "id": "4eb4ce47",
   "metadata": {},
   "source": [
    "<b>Q-3. Write a query to validate Email of Employee."
   ]
  },
  {
   "cell_type": "markdown",
   "id": "ac3bf65b",
   "metadata": {},
   "source": [
    "Select * from Worker where email like '%.com'"
   ]
  }
 ],
 "metadata": {
  "kernelspec": {
   "display_name": "Python 3",
   "language": "python",
   "name": "python3"
  },
  "language_info": {
   "codemirror_mode": {
    "name": "ipython",
    "version": 3
   },
   "file_extension": ".py",
   "mimetype": "text/x-python",
   "name": "python",
   "nbconvert_exporter": "python",
   "pygments_lexer": "ipython3",
   "version": "3.8.8"
  }
 },
 "nbformat": 4,
 "nbformat_minor": 5
}

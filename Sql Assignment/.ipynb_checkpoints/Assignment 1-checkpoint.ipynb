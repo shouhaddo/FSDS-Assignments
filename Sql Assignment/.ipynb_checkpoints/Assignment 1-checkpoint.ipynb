{
 "cells": [
  {
   "cell_type": "markdown",
   "id": "954d2a73",
   "metadata": {},
   "source": [
    "<b>Q-1. Write an SQL query to fetch “FIRST_NAME” from Worker table using the alias\n",
    "name as &lt;WORKER_NAME&gt;."
   ]
  },
  {
   "cell_type": "markdown",
   "id": "ffff24ed",
   "metadata": {},
   "source": [
    "Select FIRST_NAME as WORKER_NAME from Worker"
   ]
  },
  {
   "cell_type": "markdown",
   "id": "a7770c09",
   "metadata": {},
   "source": [
    "<b>Q-2. Write an SQL query to fetch unique values of DEPARTMENT from Worker table."
   ]
  },
  {
   "cell_type": "markdown",
   "id": "1499a9ee",
   "metadata": {},
   "source": [
    "Select distinct(DEPARTMENT) from Worker"
   ]
  },
  {
   "cell_type": "markdown",
   "id": "22a5aff8",
   "metadata": {},
   "source": [
    "<b>Q-3. Write an SQL query to show the last 5 record from a table."
   ]
  },
  {
   "cell_type": "markdown",
   "id": "5f7c889a",
   "metadata": {},
   "source": [
    "(SELECT * FROM Table_name ORDER BY ID DESC LIMIT 5)\n",
    "ORDER BY ID ASC;"
   ]
  }
 ],
 "metadata": {
  "kernelspec": {
   "display_name": "Python 3",
   "language": "python",
   "name": "python3"
  },
  "language_info": {
   "codemirror_mode": {
    "name": "ipython",
    "version": 3
   },
   "file_extension": ".py",
   "mimetype": "text/x-python",
   "name": "python",
   "nbconvert_exporter": "python",
   "pygments_lexer": "ipython3",
   "version": "3.8.8"
  }
 },
 "nbformat": 4,
 "nbformat_minor": 5
}
